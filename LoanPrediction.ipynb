{
  "nbformat": 4,
  "nbformat_minor": 0,
  "metadata": {
    "colab": {
      "name": "LoanPrediction.ipynb",
      "version": "0.3.2",
      "provenance": [],
      "include_colab_link": true
    },
    "kernelspec": {
      "name": "python3",
      "display_name": "Python 3"
    },
    "accelerator": "GPU"
  },
  "cells": [
    {
      "cell_type": "markdown",
      "metadata": {
        "id": "view-in-github",
        "colab_type": "text"
      },
      "source": [
        "<a href=\"https://colab.research.google.com/github/vijayrgopu/ml-analyticsvidhya/blob/master/LoanPrediction.ipynb\" target=\"_parent\"><img src=\"https://colab.research.google.com/assets/colab-badge.svg\" alt=\"Open In Colab\"/></a>"
      ]
    },
    {
      "metadata": {
        "id": "SI6DkUzlSimA",
        "colab_type": "text"
      },
      "cell_type": "markdown",
      "source": [
        "# **Analytics Vidhya Loan Prediction Problem III**\n",
        "\n",
        "**Problem Statement**\n",
        "\n",
        "**About Company**\n",
        "Dream Housing Finance company deals in all home loans. They have presence across all urban, semi urban and rural areas. Customer first apply for home loan after that company validates the customer eligibility for loan.\n",
        "\n",
        "**Problem**\n",
        "Company wants to automate the loan eligibility process (real time) based on customer detail provided while filling online application form. These details are Gender, Marital Status, Education, Number of Dependents, Income, Loan Amount, Credit History and others. To automate this process, they have given a problem to identify the customers segments, those are eligible for loan amount so that they can specifically target these customers. Here they have provided a partial data set.\n",
        "\n"
      ]
    },
    {
      "metadata": {
        "id": "hucFsxzrScbS",
        "colab_type": "code",
        "colab": {}
      },
      "cell_type": "code",
      "source": [
        "!pip install missingno -q"
      ],
      "execution_count": 0,
      "outputs": []
    },
    {
      "metadata": {
        "id": "KKwm4E4eUFcM",
        "colab_type": "code",
        "colab": {}
      },
      "cell_type": "code",
      "source": [
        "import pandas as pd\n",
        "import numpy as np\n",
        "import seaborn as sns\n",
        "import missingno as ms\n",
        "import matplotlib.pyplot as plt\n",
        "%matplotlib inline"
      ],
      "execution_count": 0,
      "outputs": []
    },
    {
      "metadata": {
        "id": "zYP6iqOUUmF4",
        "colab_type": "code",
        "colab": {}
      },
      "cell_type": "code",
      "source": [
        "!wget \"https://www.dropbox.com/s/vrqparlu16o8ssz/train_u6lujuX_CVtuZ9i.csv?dl=0\" -q"
      ],
      "execution_count": 0,
      "outputs": []
    },
    {
      "metadata": {
        "id": "DVjkeM0uU8-D",
        "colab_type": "code",
        "colab": {}
      },
      "cell_type": "code",
      "source": [
        "!mv train_u6lujuX_CVtuZ9i.csv* loan.csv "
      ],
      "execution_count": 0,
      "outputs": []
    },
    {
      "metadata": {
        "id": "rhtnAfJYVLis",
        "colab_type": "code",
        "colab": {}
      },
      "cell_type": "code",
      "source": [
        "data = pd.read_csv(\"loan.csv\")"
      ],
      "execution_count": 0,
      "outputs": []
    },
    {
      "metadata": {
        "id": "iu_8ZsjMVTUm",
        "colab_type": "code",
        "outputId": "cd123c3d-6598-475d-abe1-3a4d13cb8fb0",
        "colab": {
          "base_uri": "https://localhost:8080/",
          "height": 235
        }
      },
      "cell_type": "code",
      "source": [
        "data.head()"
      ],
      "execution_count": 0,
      "outputs": [
        {
          "output_type": "execute_result",
          "data": {
            "text/html": [
              "<div>\n",
              "<style scoped>\n",
              "    .dataframe tbody tr th:only-of-type {\n",
              "        vertical-align: middle;\n",
              "    }\n",
              "\n",
              "    .dataframe tbody tr th {\n",
              "        vertical-align: top;\n",
              "    }\n",
              "\n",
              "    .dataframe thead th {\n",
              "        text-align: right;\n",
              "    }\n",
              "</style>\n",
              "<table border=\"1\" class=\"dataframe\">\n",
              "  <thead>\n",
              "    <tr style=\"text-align: right;\">\n",
              "      <th></th>\n",
              "      <th>Loan_ID</th>\n",
              "      <th>Gender</th>\n",
              "      <th>Married</th>\n",
              "      <th>Dependents</th>\n",
              "      <th>Education</th>\n",
              "      <th>Self_Employed</th>\n",
              "      <th>ApplicantIncome</th>\n",
              "      <th>CoapplicantIncome</th>\n",
              "      <th>LoanAmount</th>\n",
              "      <th>Loan_Amount_Term</th>\n",
              "      <th>Credit_History</th>\n",
              "      <th>Property_Area</th>\n",
              "      <th>Loan_Status</th>\n",
              "    </tr>\n",
              "  </thead>\n",
              "  <tbody>\n",
              "    <tr>\n",
              "      <th>0</th>\n",
              "      <td>LP001002</td>\n",
              "      <td>Male</td>\n",
              "      <td>No</td>\n",
              "      <td>0</td>\n",
              "      <td>Graduate</td>\n",
              "      <td>No</td>\n",
              "      <td>5849</td>\n",
              "      <td>0.0</td>\n",
              "      <td>NaN</td>\n",
              "      <td>360.0</td>\n",
              "      <td>1.0</td>\n",
              "      <td>Urban</td>\n",
              "      <td>Y</td>\n",
              "    </tr>\n",
              "    <tr>\n",
              "      <th>1</th>\n",
              "      <td>LP001003</td>\n",
              "      <td>Male</td>\n",
              "      <td>Yes</td>\n",
              "      <td>1</td>\n",
              "      <td>Graduate</td>\n",
              "      <td>No</td>\n",
              "      <td>4583</td>\n",
              "      <td>1508.0</td>\n",
              "      <td>128.0</td>\n",
              "      <td>360.0</td>\n",
              "      <td>1.0</td>\n",
              "      <td>Rural</td>\n",
              "      <td>N</td>\n",
              "    </tr>\n",
              "    <tr>\n",
              "      <th>2</th>\n",
              "      <td>LP001005</td>\n",
              "      <td>Male</td>\n",
              "      <td>Yes</td>\n",
              "      <td>0</td>\n",
              "      <td>Graduate</td>\n",
              "      <td>Yes</td>\n",
              "      <td>3000</td>\n",
              "      <td>0.0</td>\n",
              "      <td>66.0</td>\n",
              "      <td>360.0</td>\n",
              "      <td>1.0</td>\n",
              "      <td>Urban</td>\n",
              "      <td>Y</td>\n",
              "    </tr>\n",
              "    <tr>\n",
              "      <th>3</th>\n",
              "      <td>LP001006</td>\n",
              "      <td>Male</td>\n",
              "      <td>Yes</td>\n",
              "      <td>0</td>\n",
              "      <td>Not Graduate</td>\n",
              "      <td>No</td>\n",
              "      <td>2583</td>\n",
              "      <td>2358.0</td>\n",
              "      <td>120.0</td>\n",
              "      <td>360.0</td>\n",
              "      <td>1.0</td>\n",
              "      <td>Urban</td>\n",
              "      <td>Y</td>\n",
              "    </tr>\n",
              "    <tr>\n",
              "      <th>4</th>\n",
              "      <td>LP001008</td>\n",
              "      <td>Male</td>\n",
              "      <td>No</td>\n",
              "      <td>0</td>\n",
              "      <td>Graduate</td>\n",
              "      <td>No</td>\n",
              "      <td>6000</td>\n",
              "      <td>0.0</td>\n",
              "      <td>141.0</td>\n",
              "      <td>360.0</td>\n",
              "      <td>1.0</td>\n",
              "      <td>Urban</td>\n",
              "      <td>Y</td>\n",
              "    </tr>\n",
              "  </tbody>\n",
              "</table>\n",
              "</div>"
            ],
            "text/plain": [
              "    Loan_ID Gender Married Dependents     Education Self_Employed  \\\n",
              "0  LP001002   Male      No          0      Graduate            No   \n",
              "1  LP001003   Male     Yes          1      Graduate            No   \n",
              "2  LP001005   Male     Yes          0      Graduate           Yes   \n",
              "3  LP001006   Male     Yes          0  Not Graduate            No   \n",
              "4  LP001008   Male      No          0      Graduate            No   \n",
              "\n",
              "   ApplicantIncome  CoapplicantIncome  LoanAmount  Loan_Amount_Term  \\\n",
              "0             5849                0.0         NaN             360.0   \n",
              "1             4583             1508.0       128.0             360.0   \n",
              "2             3000                0.0        66.0             360.0   \n",
              "3             2583             2358.0       120.0             360.0   \n",
              "4             6000                0.0       141.0             360.0   \n",
              "\n",
              "   Credit_History Property_Area Loan_Status  \n",
              "0             1.0         Urban           Y  \n",
              "1             1.0         Rural           N  \n",
              "2             1.0         Urban           Y  \n",
              "3             1.0         Urban           Y  \n",
              "4             1.0         Urban           Y  "
            ]
          },
          "metadata": {
            "tags": []
          },
          "execution_count": 6
        }
      ]
    },
    {
      "metadata": {
        "id": "OnjnZY-iY6l9",
        "colab_type": "code",
        "outputId": "6ce12387-c9f1-4d51-fb5a-3dc71e817f5a",
        "colab": {
          "base_uri": "https://localhost:8080/",
          "height": 328
        }
      },
      "cell_type": "code",
      "source": [
        "data.info()"
      ],
      "execution_count": 0,
      "outputs": [
        {
          "output_type": "stream",
          "text": [
            "<class 'pandas.core.frame.DataFrame'>\n",
            "RangeIndex: 614 entries, 0 to 613\n",
            "Data columns (total 13 columns):\n",
            "Loan_ID              614 non-null object\n",
            "Gender               601 non-null object\n",
            "Married              611 non-null object\n",
            "Dependents           599 non-null object\n",
            "Education            614 non-null object\n",
            "Self_Employed        582 non-null object\n",
            "ApplicantIncome      614 non-null int64\n",
            "CoapplicantIncome    614 non-null float64\n",
            "LoanAmount           592 non-null float64\n",
            "Loan_Amount_Term     600 non-null float64\n",
            "Credit_History       564 non-null float64\n",
            "Property_Area        614 non-null object\n",
            "Loan_Status          614 non-null object\n",
            "dtypes: float64(4), int64(1), object(8)\n",
            "memory usage: 62.4+ KB\n"
          ],
          "name": "stdout"
        }
      ]
    },
    {
      "metadata": {
        "id": "Q6-N5Dh6ZBFc",
        "colab_type": "code",
        "colab": {}
      },
      "cell_type": "code",
      "source": [
        "#ms.matrix(data)"
      ],
      "execution_count": 0,
      "outputs": []
    },
    {
      "metadata": {
        "id": "u-9US_ZeQA_D",
        "colab_type": "text"
      },
      "cell_type": "markdown",
      "source": [
        "# **Feature Engineering**"
      ]
    },
    {
      "metadata": {
        "id": "rktQEIOEUa76",
        "colab_type": "text"
      },
      "cell_type": "markdown",
      "source": [
        "\n",
        "\n",
        "# > Gender\n",
        "\n",
        "\n",
        "\n",
        "\n"
      ]
    },
    {
      "metadata": {
        "id": "oYGXrfuTaT4t",
        "colab_type": "code",
        "outputId": "38ccbdc6-3b86-4ee4-f997-e755efa4942f",
        "colab": {
          "base_uri": "https://localhost:8080/",
          "height": 258
        }
      },
      "cell_type": "code",
      "source": [
        "#identify mean income by gender and area\n",
        "income_by_gender_Area = data[['Gender','Property_Area','ApplicantIncome']]\n",
        "income_by_gender_Area.pivot_table(index=['Gender','Property_Area'],values=['ApplicantIncome'],aggfunc=np.mean)"
      ],
      "execution_count": 0,
      "outputs": [
        {
          "output_type": "execute_result",
          "data": {
            "text/html": [
              "<div>\n",
              "<style scoped>\n",
              "    .dataframe tbody tr th:only-of-type {\n",
              "        vertical-align: middle;\n",
              "    }\n",
              "\n",
              "    .dataframe tbody tr th {\n",
              "        vertical-align: top;\n",
              "    }\n",
              "\n",
              "    .dataframe thead th {\n",
              "        text-align: right;\n",
              "    }\n",
              "</style>\n",
              "<table border=\"1\" class=\"dataframe\">\n",
              "  <thead>\n",
              "    <tr style=\"text-align: right;\">\n",
              "      <th></th>\n",
              "      <th></th>\n",
              "      <th>ApplicantIncome</th>\n",
              "    </tr>\n",
              "    <tr>\n",
              "      <th>Gender</th>\n",
              "      <th>Property_Area</th>\n",
              "      <th></th>\n",
              "    </tr>\n",
              "  </thead>\n",
              "  <tbody>\n",
              "    <tr>\n",
              "      <th rowspan=\"3\" valign=\"top\">Female</th>\n",
              "      <th>Rural</th>\n",
              "      <td>4353.375000</td>\n",
              "    </tr>\n",
              "    <tr>\n",
              "      <th>Semiurban</th>\n",
              "      <td>4787.272727</td>\n",
              "    </tr>\n",
              "    <tr>\n",
              "      <th>Urban</th>\n",
              "      <td>4614.787879</td>\n",
              "    </tr>\n",
              "    <tr>\n",
              "      <th rowspan=\"3\" valign=\"top\">Male</th>\n",
              "      <th>Rural</th>\n",
              "      <td>5691.291391</td>\n",
              "    </tr>\n",
              "    <tr>\n",
              "      <th>Semiurban</th>\n",
              "      <td>5412.529070</td>\n",
              "    </tr>\n",
              "    <tr>\n",
              "      <th>Urban</th>\n",
              "      <td>5258.909639</td>\n",
              "    </tr>\n",
              "  </tbody>\n",
              "</table>\n",
              "</div>"
            ],
            "text/plain": [
              "                      ApplicantIncome\n",
              "Gender Property_Area                 \n",
              "Female Rural              4353.375000\n",
              "       Semiurban          4787.272727\n",
              "       Urban              4614.787879\n",
              "Male   Rural              5691.291391\n",
              "       Semiurban          5412.529070\n",
              "       Urban              5258.909639"
            ]
          },
          "metadata": {
            "tags": []
          },
          "execution_count": 9
        }
      ]
    },
    {
      "metadata": {
        "id": "L9Zk225llPKJ",
        "colab_type": "code",
        "colab": {}
      },
      "cell_type": "code",
      "source": [
        "#Feature Engineering: Imputing missing values for Gender\n",
        "#data.loc[(data.Gender.isnull())]"
      ],
      "execution_count": 0,
      "outputs": []
    },
    {
      "metadata": {
        "id": "yypLwJRkzrvY",
        "colab_type": "code",
        "colab": {}
      },
      "cell_type": "code",
      "source": [
        "#Function to impure Gender by applicant Income and partner income\n",
        "def impute_gen(cols):\n",
        "  Gender = cols['Gender']\n",
        "  CoapplicantIncome = cols['CoapplicantIncome']\n",
        "  ApplicantIncome = cols['ApplicantIncome']\n",
        "  \n",
        "  if type(Gender) is str : \n",
        "    return cols['Gender']\n",
        "  else:\n",
        "    if CoapplicantIncome > 0 and ApplicantIncome > CoapplicantIncome:\n",
        "       return str('Male')\n",
        "    else:\n",
        "      if ApplicantIncome < 5000:\n",
        "          return str('Female')\n",
        "      else:  \n",
        "          return str('Male')"
      ],
      "execution_count": 0,
      "outputs": []
    },
    {
      "metadata": {
        "id": "K4PC858JgcU9",
        "colab_type": "code",
        "colab": {}
      },
      "cell_type": "code",
      "source": [
        "#Impute Gender\n",
        "data['Gender'] = data[['Gender','ApplicantIncome','CoapplicantIncome']].apply(impute_gen,axis=1)"
      ],
      "execution_count": 0,
      "outputs": []
    },
    {
      "metadata": {
        "id": "KXR0zOOoUvpd",
        "colab_type": "text"
      },
      "cell_type": "markdown",
      "source": [
        "\n",
        "\n",
        "# > **Marital Status**\n",
        "\n"
      ]
    },
    {
      "metadata": {
        "id": "NWKgbbMYReos",
        "colab_type": "code",
        "colab": {}
      },
      "cell_type": "code",
      "source": [
        "#Imputing marital status\n",
        "def impute_marital_status(cols):\n",
        "    Married = cols[0]\n",
        "    ApplicantIncome = cols[1]\n",
        "    CoapplicantIncome = cols[2]\n",
        "    \n",
        "    if type(Married) is str:\n",
        "      return cols[0]\n",
        "    else:\n",
        "      if CoapplicantIncome > 0:\n",
        "        return str('Yes')\n",
        "      else:\n",
        "        return str('No')\n",
        "    "
      ],
      "execution_count": 0,
      "outputs": []
    },
    {
      "metadata": {
        "id": "7MHqGkycVm-0",
        "colab_type": "code",
        "colab": {}
      },
      "cell_type": "code",
      "source": [
        "data['Married'] = data[['Married','ApplicantIncome','CoapplicantIncome']].apply(impute_marital_status,axis=1)"
      ],
      "execution_count": 0,
      "outputs": []
    },
    {
      "metadata": {
        "id": "NaCwEkEkWiCy",
        "colab_type": "text"
      },
      "cell_type": "markdown",
      "source": [
        "\n",
        "\n",
        "# > **Dependents**\n",
        "\n",
        "Imputing Zero as dependents as this is not provided by the applicant, may have high propability on the decision of approval for a loan.\n",
        "\n"
      ]
    },
    {
      "metadata": {
        "id": "uzBhXh0BQGky",
        "colab_type": "code",
        "colab": {}
      },
      "cell_type": "code",
      "source": [
        "data['Dependents'] = data[['Dependents']].where(data.Dependents.notnull(),other=str(0))"
      ],
      "execution_count": 0,
      "outputs": []
    },
    {
      "metadata": {
        "id": "i9iiTHtc7BEz",
        "colab_type": "text"
      },
      "cell_type": "markdown",
      "source": [
        "\n",
        "\n",
        "# > **Employment_Type**\n",
        "\n"
      ]
    },
    {
      "metadata": {
        "id": "gt1DVuPthVVw",
        "colab_type": "code",
        "colab": {}
      },
      "cell_type": "code",
      "source": [
        "def impute_employment(cols):\n",
        "  Employed = cols[0]\n",
        "  Education = cols[1]\n",
        "  \n",
        "  if type(Employed) is str:\n",
        "    return Employed\n",
        "  else:\n",
        "    if Education == \"Graduate\":\n",
        "      return str('Yes')\n",
        "    else:\n",
        "      return str('No')"
      ],
      "execution_count": 0,
      "outputs": []
    },
    {
      "metadata": {
        "id": "isp_PYNu-Krm",
        "colab_type": "code",
        "colab": {}
      },
      "cell_type": "code",
      "source": [
        "data['Self_Employed'] = data[['Self_Employed','Education']].apply(impute_employment,axis=1)"
      ],
      "execution_count": 0,
      "outputs": []
    },
    {
      "metadata": {
        "id": "ca68U380-wM0",
        "colab_type": "text"
      },
      "cell_type": "markdown",
      "source": [
        "\n",
        "\n",
        "# > **Loan Amount Ratio**\n",
        "\n",
        "Will calculate loan amount ratio and drop the rows where the loan amount is missing as this is a key criteria for prediction\n",
        "\n"
      ]
    },
    {
      "metadata": {
        "id": "-f94Zb9e-oZ2",
        "colab_type": "code",
        "colab": {}
      },
      "cell_type": "code",
      "source": [
        "data['Total_Income'] = data.ApplicantIncome + data.CoapplicantIncome"
      ],
      "execution_count": 0,
      "outputs": []
    },
    {
      "metadata": {
        "id": "g3lJGfHA-7w6",
        "colab_type": "code",
        "colab": {}
      },
      "cell_type": "code",
      "source": [
        "data['Loan_Income_Perc'] = round(data.LoanAmount*1000/data.Total_Income,2)"
      ],
      "execution_count": 0,
      "outputs": []
    },
    {
      "metadata": {
        "id": "BdlXWUFfJT0B",
        "colab_type": "code",
        "outputId": "ff0abc27-84b1-4350-a79b-84f8eaed5291",
        "colab": {
          "base_uri": "https://localhost:8080/",
          "height": 258
        }
      },
      "cell_type": "code",
      "source": [
        "data_by_area_loanstatus_incomeperc = data[['Property_Area','Loan_Status','Loan_Income_Perc']]\n",
        "pd.pivot_table(data_by_area_loanstatus_incomeperc,index=['Property_Area','Loan_Status'],values=['Loan_Income_Perc'],aggfunc=np.mean)"
      ],
      "execution_count": 0,
      "outputs": [
        {
          "output_type": "execute_result",
          "data": {
            "text/html": [
              "<div>\n",
              "<style scoped>\n",
              "    .dataframe tbody tr th:only-of-type {\n",
              "        vertical-align: middle;\n",
              "    }\n",
              "\n",
              "    .dataframe tbody tr th {\n",
              "        vertical-align: top;\n",
              "    }\n",
              "\n",
              "    .dataframe thead th {\n",
              "        text-align: right;\n",
              "    }\n",
              "</style>\n",
              "<table border=\"1\" class=\"dataframe\">\n",
              "  <thead>\n",
              "    <tr style=\"text-align: right;\">\n",
              "      <th></th>\n",
              "      <th></th>\n",
              "      <th>Loan_Income_Perc</th>\n",
              "    </tr>\n",
              "    <tr>\n",
              "      <th>Property_Area</th>\n",
              "      <th>Loan_Status</th>\n",
              "      <th></th>\n",
              "    </tr>\n",
              "  </thead>\n",
              "  <tbody>\n",
              "    <tr>\n",
              "      <th rowspan=\"2\" valign=\"top\">Rural</th>\n",
              "      <th>N</th>\n",
              "      <td>24.817121</td>\n",
              "    </tr>\n",
              "    <tr>\n",
              "      <th>Y</th>\n",
              "      <td>23.640187</td>\n",
              "    </tr>\n",
              "    <tr>\n",
              "      <th rowspan=\"2\" valign=\"top\">Semiurban</th>\n",
              "      <th>N</th>\n",
              "      <td>25.958491</td>\n",
              "    </tr>\n",
              "    <tr>\n",
              "      <th>Y</th>\n",
              "      <td>23.828629</td>\n",
              "    </tr>\n",
              "    <tr>\n",
              "      <th rowspan=\"2\" valign=\"top\">Urban</th>\n",
              "      <th>N</th>\n",
              "      <td>23.534194</td>\n",
              "    </tr>\n",
              "    <tr>\n",
              "      <th>Y</th>\n",
              "      <td>22.410155</td>\n",
              "    </tr>\n",
              "  </tbody>\n",
              "</table>\n",
              "</div>"
            ],
            "text/plain": [
              "                           Loan_Income_Perc\n",
              "Property_Area Loan_Status                  \n",
              "Rural         N                   24.817121\n",
              "              Y                   23.640187\n",
              "Semiurban     N                   25.958491\n",
              "              Y                   23.828629\n",
              "Urban         N                   23.534194\n",
              "              Y                   22.410155"
            ]
          },
          "metadata": {
            "tags": []
          },
          "execution_count": 20
        }
      ]
    },
    {
      "metadata": {
        "id": "hcgN5zmVKw3M",
        "colab_type": "text"
      },
      "cell_type": "markdown",
      "source": [
        "\n",
        "\n",
        "# > **Credit History**\n",
        "Default 0 if credit history is missing\n",
        "\n"
      ]
    },
    {
      "metadata": {
        "id": "x_ZuPhOzS_Pp",
        "colab_type": "code",
        "colab": {}
      },
      "cell_type": "code",
      "source": [
        "data['Credit_History'] = data['Credit_History'].where(data.Credit_History.notnull(),other=0)"
      ],
      "execution_count": 0,
      "outputs": []
    },
    {
      "metadata": {
        "id": "w4lWX0nTO1dU",
        "colab_type": "text"
      },
      "cell_type": "markdown",
      "source": [
        "\n",
        "\n",
        "# > **Loan Amount Term**\n",
        "\n",
        "\n"
      ]
    },
    {
      "metadata": {
        "id": "ak9j6bmhPANn",
        "colab_type": "code",
        "outputId": "95866dd1-75ee-4fcd-9a0d-13d245cde11c",
        "colab": {
          "base_uri": "https://localhost:8080/",
          "height": 258
        }
      },
      "cell_type": "code",
      "source": [
        "data_loan_amount_term_cal = data[['Loan_Status','Property_Area','Loan_Income_Perc','Loan_Amount_Term']]\n",
        "pd.pivot_table(data_loan_amount_term_cal,index=['Loan_Status','Property_Area'],values=['Loan_Income_Perc'],aggfunc=np.mean)"
      ],
      "execution_count": 0,
      "outputs": [
        {
          "output_type": "execute_result",
          "data": {
            "text/html": [
              "<div>\n",
              "<style scoped>\n",
              "    .dataframe tbody tr th:only-of-type {\n",
              "        vertical-align: middle;\n",
              "    }\n",
              "\n",
              "    .dataframe tbody tr th {\n",
              "        vertical-align: top;\n",
              "    }\n",
              "\n",
              "    .dataframe thead th {\n",
              "        text-align: right;\n",
              "    }\n",
              "</style>\n",
              "<table border=\"1\" class=\"dataframe\">\n",
              "  <thead>\n",
              "    <tr style=\"text-align: right;\">\n",
              "      <th></th>\n",
              "      <th></th>\n",
              "      <th>Loan_Income_Perc</th>\n",
              "    </tr>\n",
              "    <tr>\n",
              "      <th>Loan_Status</th>\n",
              "      <th>Property_Area</th>\n",
              "      <th></th>\n",
              "    </tr>\n",
              "  </thead>\n",
              "  <tbody>\n",
              "    <tr>\n",
              "      <th rowspan=\"3\" valign=\"top\">N</th>\n",
              "      <th>Rural</th>\n",
              "      <td>24.817121</td>\n",
              "    </tr>\n",
              "    <tr>\n",
              "      <th>Semiurban</th>\n",
              "      <td>25.958491</td>\n",
              "    </tr>\n",
              "    <tr>\n",
              "      <th>Urban</th>\n",
              "      <td>23.534194</td>\n",
              "    </tr>\n",
              "    <tr>\n",
              "      <th rowspan=\"3\" valign=\"top\">Y</th>\n",
              "      <th>Rural</th>\n",
              "      <td>23.640187</td>\n",
              "    </tr>\n",
              "    <tr>\n",
              "      <th>Semiurban</th>\n",
              "      <td>23.828629</td>\n",
              "    </tr>\n",
              "    <tr>\n",
              "      <th>Urban</th>\n",
              "      <td>22.410155</td>\n",
              "    </tr>\n",
              "  </tbody>\n",
              "</table>\n",
              "</div>"
            ],
            "text/plain": [
              "                           Loan_Income_Perc\n",
              "Loan_Status Property_Area                  \n",
              "N           Rural                 24.817121\n",
              "            Semiurban             25.958491\n",
              "            Urban                 23.534194\n",
              "Y           Rural                 23.640187\n",
              "            Semiurban             23.828629\n",
              "            Urban                 22.410155"
            ]
          },
          "metadata": {
            "tags": []
          },
          "execution_count": 22
        }
      ]
    },
    {
      "metadata": {
        "id": "XBCC5xgdnTF8",
        "colab_type": "code",
        "outputId": "71653593-af44-4692-dfb3-a0270b94bcd7",
        "colab": {
          "base_uri": "https://localhost:8080/",
          "height": 258
        }
      },
      "cell_type": "code",
      "source": [
        "pd.pivot_table(data_loan_amount_term_cal,index=['Loan_Status','Property_Area'],values=['Loan_Amount_Term'],aggfunc=np.mean)"
      ],
      "execution_count": 0,
      "outputs": [
        {
          "output_type": "execute_result",
          "data": {
            "text/html": [
              "<div>\n",
              "<style scoped>\n",
              "    .dataframe tbody tr th:only-of-type {\n",
              "        vertical-align: middle;\n",
              "    }\n",
              "\n",
              "    .dataframe tbody tr th {\n",
              "        vertical-align: top;\n",
              "    }\n",
              "\n",
              "    .dataframe thead th {\n",
              "        text-align: right;\n",
              "    }\n",
              "</style>\n",
              "<table border=\"1\" class=\"dataframe\">\n",
              "  <thead>\n",
              "    <tr style=\"text-align: right;\">\n",
              "      <th></th>\n",
              "      <th></th>\n",
              "      <th>Loan_Amount_Term</th>\n",
              "    </tr>\n",
              "    <tr>\n",
              "      <th>Loan_Status</th>\n",
              "      <th>Property_Area</th>\n",
              "      <th></th>\n",
              "    </tr>\n",
              "  </thead>\n",
              "  <tbody>\n",
              "    <tr>\n",
              "      <th rowspan=\"3\" valign=\"top\">N</th>\n",
              "      <th>Rural</th>\n",
              "      <td>345.134328</td>\n",
              "    </tr>\n",
              "    <tr>\n",
              "      <th>Semiurban</th>\n",
              "      <td>345.509434</td>\n",
              "    </tr>\n",
              "    <tr>\n",
              "      <th>Urban</th>\n",
              "      <td>341.818182</td>\n",
              "    </tr>\n",
              "    <tr>\n",
              "      <th rowspan=\"3\" valign=\"top\">Y</th>\n",
              "      <th>Rural</th>\n",
              "      <td>345.777778</td>\n",
              "    </tr>\n",
              "    <tr>\n",
              "      <th>Semiurban</th>\n",
              "      <td>347.593220</td>\n",
              "    </tr>\n",
              "    <tr>\n",
              "      <th>Urban</th>\n",
              "      <td>328.186047</td>\n",
              "    </tr>\n",
              "  </tbody>\n",
              "</table>\n",
              "</div>"
            ],
            "text/plain": [
              "                           Loan_Amount_Term\n",
              "Loan_Status Property_Area                  \n",
              "N           Rural                345.134328\n",
              "            Semiurban            345.509434\n",
              "            Urban                341.818182\n",
              "Y           Rural                345.777778\n",
              "            Semiurban            347.593220\n",
              "            Urban                328.186047"
            ]
          },
          "metadata": {
            "tags": []
          },
          "execution_count": 23
        }
      ]
    },
    {
      "metadata": {
        "id": "QqGfMMLGoKZG",
        "colab_type": "code",
        "colab": {}
      },
      "cell_type": "code",
      "source": [
        "#verify loan amount term data for less than 20 ratio\n",
        "#data[data.Loan_Income_Perc < 20]"
      ],
      "execution_count": 0,
      "outputs": []
    },
    {
      "metadata": {
        "id": "lFOk2xUIsClV",
        "colab_type": "code",
        "colab": {}
      },
      "cell_type": "code",
      "source": [
        "#data[(data.Loan_Income_Perc > 19)& (data.Loan_Income_Perc < 20) & (data.Loan_Status == 'N')]"
      ],
      "execution_count": 0,
      "outputs": []
    },
    {
      "metadata": {
        "id": "cFnW8io0jbYi",
        "colab_type": "code",
        "colab": {}
      },
      "cell_type": "code",
      "source": [
        "#save the list to verify the data after imputing\n",
        "loan_amt_term_idx = data[data.Loan_Amount_Term.isnull() == True].index.tolist()\n",
        "#data.iloc[loan_amt_term_idx]"
      ],
      "execution_count": 0,
      "outputs": []
    },
    {
      "metadata": {
        "id": "fEA5MkeJvN98",
        "colab_type": "code",
        "colab": {}
      },
      "cell_type": "code",
      "source": [
        "def impute_loan_term(cols):\n",
        "  Loan_Status = cols[0]\n",
        "  Property_Area = cols[1]\n",
        "  Loan_Income_Perc = cols[2]\n",
        "  Loan_Term = cols[3]\n",
        "  \n",
        "  if Loan_Term > 0:\n",
        "    return Loan_Term\n",
        "  else:\n",
        "    if Loan_Status == 'N' and Property_Area == \"Rural\" and Loan_Income_Perc > 24:\n",
        "      return float(360)\n",
        "    if Loan_Status == 'N' and Property_Area == \"Semiurban\" and Loan_Income_Perc > 25:\n",
        "      return float(360)\n",
        "    if Loan_Status == 'N' and Property_Area == \"Urban\" and Loan_Income_Perc > 23:\n",
        "      return float(360)\n",
        "    if Loan_Status == 'Y' and Property_Area == \"Rural\" and Loan_Income_Perc > 23 and Loan_Income_Perc < 24:\n",
        "      return float(345)\n",
        "    if Loan_Status == 'Y' and Property_Area == \"Semiurban\" and Loan_Income_Perc > 23 and Loan_Income_Perc < 24:\n",
        "      return float(347)\n",
        "    if Loan_Status == 'Y' and Property_Area == \"Urban\" and Loan_Income_Perc > 22 and Loan_Income_Perc < 23:\n",
        "      return float(328)\n",
        "    if Loan_Income_Perc > 10:\n",
        "      return float(360)\n",
        "    if Loan_Income_Perc < 10:\n",
        "      return float(180)"
      ],
      "execution_count": 0,
      "outputs": []
    },
    {
      "metadata": {
        "id": "6LF2xUeHwnlH",
        "colab_type": "code",
        "colab": {}
      },
      "cell_type": "code",
      "source": [
        " data['Loan_Amount_Term'] = data[['Loan_Status','Property_Area','Loan_Income_Perc','Loan_Amount_Term']].apply(impute_loan_term,axis=1)"
      ],
      "execution_count": 0,
      "outputs": []
    },
    {
      "metadata": {
        "id": "khyqUamLdV51",
        "colab_type": "text"
      },
      "cell_type": "markdown",
      "source": [
        "\n",
        "\n",
        "# > **Loan_ID**\n",
        "\n"
      ]
    },
    {
      "metadata": {
        "id": "4_XjuQs2ddGs",
        "colab_type": "code",
        "colab": {}
      },
      "cell_type": "code",
      "source": [
        "def convert_loanid(cols):\n",
        "  LoanID = int(cols[0][4:])\n",
        "  return LoanID"
      ],
      "execution_count": 0,
      "outputs": []
    },
    {
      "metadata": {
        "id": "twwxSOQTeAxN",
        "colab_type": "code",
        "colab": {}
      },
      "cell_type": "code",
      "source": [
        "data['Loan_ID'] = data[['Loan_ID']].apply(convert_loanid,axis=1)"
      ],
      "execution_count": 0,
      "outputs": []
    },
    {
      "metadata": {
        "id": "q-1wwnaTt7Es",
        "colab_type": "text"
      },
      "cell_type": "markdown",
      "source": [
        "\n",
        "\n",
        "# > **Drop Rows with empty values**\n",
        "\n"
      ]
    },
    {
      "metadata": {
        "id": "MOW_nLKWt2uT",
        "colab_type": "code",
        "colab": {}
      },
      "cell_type": "code",
      "source": [
        "data.dropna(axis=0,inplace=True)"
      ],
      "execution_count": 0,
      "outputs": []
    },
    {
      "metadata": {
        "id": "b0W3RyzWuu3j",
        "colab_type": "text"
      },
      "cell_type": "markdown",
      "source": [
        "\n",
        "\n",
        "# > **One Hot Encoding**\n",
        "\n"
      ]
    },
    {
      "metadata": {
        "id": "j_RipiA7u481",
        "colab_type": "code",
        "colab": {}
      },
      "cell_type": "code",
      "source": [
        "Gender = pd.get_dummies(data['Gender'],drop_first=True)\n",
        "Married = pd.get_dummies(data['Married'],drop_first=True)\n",
        "Married.rename(index=int,columns={\"Yes\": \"Married\"},inplace=True)\n",
        "\n",
        "Dependents = pd.get_dummies(data['Dependents'],drop_first=True)\n",
        "Dependents.rename(index=int,columns={\"1\": \"1_Dpnds\", \"2\": \"2_Dpnds\", \"3+\": \"3+_Dpnds\"},inplace=True)\n",
        "\n",
        "Education = pd.get_dummies(data['Education'],drop_first=True)\n",
        "\n",
        "Self_Employed = pd.get_dummies(data['Self_Employed'],drop_first=True)\n",
        "Self_Employed.rename(index=int,columns={\"Yes\": \"Self_Employed\"},inplace=True)\n",
        "\n",
        "Property_Area = pd.get_dummies(data['Property_Area'],drop_first=True)\n",
        "\n",
        "Loan_Status = pd.get_dummies(data['Loan_Status'],drop_first=True)\n",
        "Loan_Status.rename(index=int,columns={\"Y\": \"Loan_Status\"},inplace=True)"
      ],
      "execution_count": 0,
      "outputs": []
    },
    {
      "metadata": {
        "id": "nTAK9Ljz8Yx5",
        "colab_type": "text"
      },
      "cell_type": "markdown",
      "source": [
        "\n",
        "\n",
        "# > **Drop & Concat encoded columns**\n",
        "\n"
      ]
    },
    {
      "metadata": {
        "id": "LThJY1dI8tCd",
        "colab_type": "code",
        "colab": {}
      },
      "cell_type": "code",
      "source": [
        "data.drop(columns=['Gender','Married','Dependents','Education','Self_Employed','Property_Area','Loan_Status','ApplicantIncome','CoapplicantIncome'],axis=1,inplace=True)"
      ],
      "execution_count": 0,
      "outputs": []
    },
    {
      "metadata": {
        "id": "PWBfpuGD9RZz",
        "colab_type": "code",
        "colab": {}
      },
      "cell_type": "code",
      "source": [
        "data = pd.concat([data,Gender,Married,Dependents,Education,Self_Employed,Property_Area,Loan_Status],axis=1)"
      ],
      "execution_count": 0,
      "outputs": []
    },
    {
      "metadata": {
        "id": "VgXk6i8A1cGl",
        "colab_type": "code",
        "outputId": "332b8b4e-4c91-4300-a132-37d7167fdef0",
        "colab": {
          "base_uri": "https://localhost:8080/",
          "height": 364
        }
      },
      "cell_type": "code",
      "source": [
        "sns.heatmap(data.corr(),cmap='coolwarm')"
      ],
      "execution_count": 0,
      "outputs": [
        {
          "output_type": "execute_result",
          "data": {
            "text/plain": [
              "<matplotlib.axes._subplots.AxesSubplot at 0x7f6af7f32048>"
            ]
          },
          "metadata": {
            "tags": []
          },
          "execution_count": 35
        },
        {
          "output_type": "display_data",
          "data": {
            "image/png": "[encoded data removed]",
            "text/plain": [
              "<matplotlib.figure.Figure at 0x7f6af7f3d390>"
            ]
          },
          "metadata": {
            "tags": []
          }
        }
      ]
    },
    {
      "metadata": {
        "id": "uBb4FDidVR29",
        "colab_type": "text"
      },
      "cell_type": "markdown",
      "source": [
        "\n",
        "\n",
        "# > **Model Selection (Gradient Boosting Classifier)**\n",
        "\n"
      ]
    },
    {
      "metadata": {
        "id": "KcHCpr4RVYWu",
        "colab_type": "code",
        "colab": {}
      },
      "cell_type": "code",
      "source": [
        "from sklearn import ensemble, model_selection"
      ],
      "execution_count": 0,
      "outputs": []
    },
    {
      "metadata": {
        "id": "hdhwvf6YWZAT",
        "colab_type": "code",
        "colab": {}
      },
      "cell_type": "code",
      "source": [
        "X_train, X_test, y_train, y_test = model_selection.train_test_split(data.drop(['Loan_Status','Loan_ID'],axis=1),data['Loan_Status'].values.reshape((592,1)),\n",
        "                                 random_state=42,shuffle=True,test_size=0.25,stratify=data['Loan_Status'])"
      ],
      "execution_count": 0,
      "outputs": []
    },
    {
      "metadata": {
        "id": "pLr_bQfq9f_A",
        "colab_type": "code",
        "colab": {}
      },
      "cell_type": "code",
      "source": [
        "model = ensemble.GradientBoostingClassifier(loss='exponential',n_estimators=100,max_depth=3,random_state=42,presort=True,verbose=0)"
      ],
      "execution_count": 0,
      "outputs": []
    },
    {
      "metadata": {
        "id": "K_H6MRytBifr",
        "colab_type": "code",
        "colab": {}
      },
      "cell_type": "code",
      "source": [
        "params_grid = {'max_depth':[3,4,5,6], 'n_estimators':[100,250,500,750,1000], 'warm_start': [False], 'max_features': ['sqrt','log2',None]}"
      ],
      "execution_count": 0,
      "outputs": []
    },
    {
      "metadata": {
        "id": "IPGnLNaO_8cI",
        "colab_type": "code",
        "colab": {}
      },
      "cell_type": "code",
      "source": [
        "tune_model = model_selection.GridSearchCV(model,scoring='roc_auc',param_grid=params_grid)"
      ],
      "execution_count": 0,
      "outputs": []
    },
    {
      "metadata": {
        "id": "6hs-90EUDBD9",
        "colab_type": "code",
        "outputId": "14f47f1b-eb93-4bf1-d8d5-a3995e479a1f",
        "colab": {
          "base_uri": "https://localhost:8080/",
          "height": 245
        }
      },
      "cell_type": "code",
      "source": [
        "tune_model.fit(X_train,y_train.ravel())"
      ],
      "execution_count": 0,
      "outputs": [
        {
          "output_type": "execute_result",
          "data": {
            "text/plain": [
              "GridSearchCV(cv=None, error_score='raise',\n",
              "       estimator=GradientBoostingClassifier(criterion='friedman_mse', init=None,\n",
              "              learning_rate=0.1, loss='exponential', max_depth=3,\n",
              "              max_features=None, max_leaf_nodes=None,\n",
              "              min_impurity_decrease=0.0, min_impurity_split=None,\n",
              "              min_samples_leaf=1, min_samples_split=2,\n",
              "              min_weight_fraction_leaf=0.0, n_estimators=100, presort=True,\n",
              "              random_state=42, subsample=1.0, verbose=0, warm_start=False),\n",
              "       fit_params=None, iid=True, n_jobs=1,\n",
              "       param_grid={'max_depth': [3, 4, 5, 6], 'n_estimators': [100, 250, 500, 750, 1000], 'warm_start': [False], 'max_features': ['sqrt', 'log2', None]},\n",
              "       pre_dispatch='2*n_jobs', refit=True, return_train_score='warn',\n",
              "       scoring='roc_auc', verbose=0)"
            ]
          },
          "metadata": {
            "tags": []
          },
          "execution_count": 41
        }
      ]
    },
    {
      "metadata": {
        "id": "772nJP0aDevM",
        "colab_type": "code",
        "outputId": "aeb9b5f8-cd4f-4fe2-b277-bbd46db2752a",
        "colab": {
          "base_uri": "https://localhost:8080/",
          "height": 86
        }
      },
      "cell_type": "code",
      "source": [
        "tune_model.best_params_"
      ],
      "execution_count": 0,
      "outputs": [
        {
          "output_type": "execute_result",
          "data": {
            "text/plain": [
              "{'max_depth': 3,\n",
              " 'max_features': 'sqrt',\n",
              " 'n_estimators': 100,\n",
              " 'warm_start': False}"
            ]
          },
          "metadata": {
            "tags": []
          },
          "execution_count": 42
        }
      ]
    },
    {
      "metadata": {
        "id": "25VxPnquFeYo",
        "colab_type": "code",
        "outputId": "6f3a4886-c80a-4196-be77-bdec8b863c0f",
        "colab": {
          "base_uri": "https://localhost:8080/",
          "height": 138
        }
      },
      "cell_type": "code",
      "source": [
        "tune_model.best_estimator_"
      ],
      "execution_count": 0,
      "outputs": [
        {
          "output_type": "execute_result",
          "data": {
            "text/plain": [
              "GradientBoostingClassifier(criterion='friedman_mse', init=None,\n",
              "              learning_rate=0.1, loss='exponential', max_depth=3,\n",
              "              max_features='sqrt', max_leaf_nodes=None,\n",
              "              min_impurity_decrease=0.0, min_impurity_split=None,\n",
              "              min_samples_leaf=1, min_samples_split=2,\n",
              "              min_weight_fraction_leaf=0.0, n_estimators=100, presort=True,\n",
              "              random_state=42, subsample=1.0, verbose=0, warm_start=False)"
            ]
          },
          "metadata": {
            "tags": []
          },
          "execution_count": 43
        }
      ]
    },
    {
      "metadata": {
        "id": "aw5Q4BQZHOWG",
        "colab_type": "code",
        "colab": {}
      },
      "cell_type": "code",
      "source": [
        "predict = tune_model.predict(X_test)"
      ],
      "execution_count": 0,
      "outputs": []
    },
    {
      "metadata": {
        "id": "AylPQRl_Wj5x",
        "colab_type": "code",
        "outputId": "333f8b57-cfd4-4b4f-dd24-1a5caabc2e48",
        "colab": {
          "base_uri": "https://localhost:8080/",
          "height": 35
        }
      },
      "cell_type": "code",
      "source": [
        "tune_model.best_score_"
      ],
      "execution_count": 0,
      "outputs": [
        {
          "output_type": "execute_result",
          "data": {
            "text/plain": [
              "0.7292366109684785"
            ]
          },
          "metadata": {
            "tags": []
          },
          "execution_count": 45
        }
      ]
    },
    {
      "metadata": {
        "id": "IEkwAMmHIncC",
        "colab_type": "code",
        "outputId": "e01a3ee6-00ef-4a40-f659-5cbe3836f6a2",
        "colab": {
          "base_uri": "https://localhost:8080/",
          "height": 52
        }
      },
      "cell_type": "code",
      "source": [
        "from sklearn.metrics import confusion_matrix,classification_report\n",
        "print(confusion_matrix(y_test,predict))"
      ],
      "execution_count": 0,
      "outputs": [
        {
          "output_type": "stream",
          "text": [
            "[[18 27]\n",
            " [ 9 94]]\n"
          ],
          "name": "stdout"
        }
      ]
    },
    {
      "metadata": {
        "id": "HamZdMuOKFlr",
        "colab_type": "code",
        "outputId": "3cecace5-f22d-4a8a-cf45-3ab0f75c85e4",
        "colab": {
          "base_uri": "https://localhost:8080/",
          "height": 138
        }
      },
      "cell_type": "code",
      "source": [
        "print(classification_report(y_test,predict))"
      ],
      "execution_count": 0,
      "outputs": [
        {
          "output_type": "stream",
          "text": [
            "             precision    recall  f1-score   support\n",
            "\n",
            "          0       0.67      0.40      0.50        45\n",
            "          1       0.78      0.91      0.84       103\n",
            "\n",
            "avg / total       0.74      0.76      0.74       148\n",
            "\n"
          ],
          "name": "stdout"
        }
      ]
    },
    {
      "metadata": {
        "id": "t1biZmfuLAlt",
        "colab_type": "code",
        "outputId": "6db9b85d-539d-4ed2-b58b-1219ef5af857",
        "colab": {
          "base_uri": "https://localhost:8080/",
          "height": 35
        }
      },
      "cell_type": "code",
      "source": [
        "from sklearn.metrics import accuracy_score\n",
        "print(accuracy_score(y_test, predict))"
      ],
      "execution_count": 0,
      "outputs": [
        {
          "output_type": "stream",
          "text": [
            "0.7567567567567568\n"
          ],
          "name": "stdout"
        }
      ]
    },
    {
      "metadata": {
        "id": "j8h0vb8SVWiA",
        "colab_type": "text"
      },
      "cell_type": "markdown",
      "source": [
        "# **GradientBoosting Scores**\n",
        "\n",
        "Without Shuffling Accuracy_Score = 0.45\n",
        "\n",
        "CFM 16,28,52,52\n",
        "\n",
        "\n",
        "---\n",
        "\n",
        "\n",
        "\n",
        "With Shuffling Accuracy = 0.7229\n",
        "\n",
        "CFM 15,30,11,92\n",
        "\n",
        "\n",
        "---\n",
        "\n",
        "\n",
        "\n",
        "With loss set to Exponential, Accuracy = 0.7364\n",
        "\n",
        "CFM 17, 28, 11, 92\n",
        "\n",
        "\n",
        "---\n",
        "\n",
        "With max_features set to sqrt (reduce key features by using square root algo)\n",
        "\n",
        "Accuracy = 0.7567\n",
        "\n",
        "CFM 18, 27, 9, 94"
      ]
    },
    {
      "metadata": {
        "id": "KzMcTD4E3eLZ",
        "colab_type": "text"
      },
      "cell_type": "markdown",
      "source": [
        "\n",
        "\n",
        "# > **Validation Set**\n",
        "\n"
      ]
    },
    {
      "metadata": {
        "id": "EfYePCMG3ob_",
        "colab_type": "code",
        "colab": {}
      },
      "cell_type": "code",
      "source": [
        "!wget \"https://www.dropbox.com/s/v8gujc244yuqly0/test_Y3wMUE5_7gLdaTN.csv?dl=0\" -q\n",
        "!mv test* validation.csv"
      ],
      "execution_count": 0,
      "outputs": []
    },
    {
      "metadata": {
        "id": "klpBth6g4V6B",
        "colab_type": "code",
        "colab": {}
      },
      "cell_type": "code",
      "source": [
        "prod_data = pd.read_csv('validation.csv')"
      ],
      "execution_count": 0,
      "outputs": []
    },
    {
      "metadata": {
        "id": "Y2fHFWGS4vAS",
        "colab_type": "code",
        "outputId": "7571a2fc-5d72-437a-f54e-0e8b5bfde579",
        "colab": {
          "base_uri": "https://localhost:8080/",
          "height": 311
        }
      },
      "cell_type": "code",
      "source": [
        "prod_data.info()"
      ],
      "execution_count": 0,
      "outputs": [
        {
          "output_type": "stream",
          "text": [
            "<class 'pandas.core.frame.DataFrame'>\n",
            "RangeIndex: 367 entries, 0 to 366\n",
            "Data columns (total 12 columns):\n",
            "Loan_ID              367 non-null object\n",
            "Gender               356 non-null object\n",
            "Married              367 non-null object\n",
            "Dependents           357 non-null object\n",
            "Education            367 non-null object\n",
            "Self_Employed        344 non-null object\n",
            "ApplicantIncome      367 non-null int64\n",
            "CoapplicantIncome    367 non-null int64\n",
            "LoanAmount           362 non-null float64\n",
            "Loan_Amount_Term     361 non-null float64\n",
            "Credit_History       338 non-null float64\n",
            "Property_Area        367 non-null object\n",
            "dtypes: float64(3), int64(2), object(7)\n",
            "memory usage: 34.5+ KB\n"
          ],
          "name": "stdout"
        }
      ]
    },
    {
      "metadata": {
        "id": "0fZxRlFpG0ZD",
        "colab_type": "text"
      },
      "cell_type": "markdown",
      "source": [
        "# > Impute missing values on production set\n",
        "\n"
      ]
    },
    {
      "metadata": {
        "id": "hwwGl2QF5NW9",
        "colab_type": "code",
        "colab": {}
      },
      "cell_type": "code",
      "source": [
        "prod_data['Gender'] = prod_data[['Gender','ApplicantIncome','CoapplicantIncome']].apply(impute_gen,axis=1)\n",
        "\n",
        "prod_data['Dependents'] = prod_data[['Dependents']].where(prod_data.Dependents.notnull(),other=str(0))\n",
        "\n",
        "prod_data['Self_Employed'] = prod_data[['Self_Employed','Education']].apply(impute_employment,axis=1)\n",
        "\n",
        "prod_data['Total_Income'] = prod_data.ApplicantIncome + prod_data.CoapplicantIncome"
      ],
      "execution_count": 0,
      "outputs": []
    },
    {
      "metadata": {
        "id": "0AOCndW58wXa",
        "colab_type": "code",
        "outputId": "b977f9fa-7761-448a-dbab-1fc6f115138a",
        "colab": {
          "base_uri": "https://localhost:8080/",
          "height": 168
        }
      },
      "cell_type": "code",
      "source": [
        "prod_data_loan_amt_by_area = prod_data[['Property_Area','LoanAmount']]\n",
        "pd.pivot_table(prod_data_loan_amt_by_area,index=['Property_Area'],values=['LoanAmount'],aggfunc=np.mean)\n"
      ],
      "execution_count": 0,
      "outputs": [
        {
          "output_type": "execute_result",
          "data": {
            "text/html": [
              "<div>\n",
              "<style scoped>\n",
              "    .dataframe tbody tr th:only-of-type {\n",
              "        vertical-align: middle;\n",
              "    }\n",
              "\n",
              "    .dataframe tbody tr th {\n",
              "        vertical-align: top;\n",
              "    }\n",
              "\n",
              "    .dataframe thead th {\n",
              "        text-align: right;\n",
              "    }\n",
              "</style>\n",
              "<table border=\"1\" class=\"dataframe\">\n",
              "  <thead>\n",
              "    <tr style=\"text-align: right;\">\n",
              "      <th></th>\n",
              "      <th>LoanAmount</th>\n",
              "    </tr>\n",
              "    <tr>\n",
              "      <th>Property_Area</th>\n",
              "      <th></th>\n",
              "    </tr>\n",
              "  </thead>\n",
              "  <tbody>\n",
              "    <tr>\n",
              "      <th>Rural</th>\n",
              "      <td>138.181818</td>\n",
              "    </tr>\n",
              "    <tr>\n",
              "      <th>Semiurban</th>\n",
              "      <td>134.043860</td>\n",
              "    </tr>\n",
              "    <tr>\n",
              "      <th>Urban</th>\n",
              "      <td>136.224638</td>\n",
              "    </tr>\n",
              "  </tbody>\n",
              "</table>\n",
              "</div>"
            ],
            "text/plain": [
              "               LoanAmount\n",
              "Property_Area            \n",
              "Rural          138.181818\n",
              "Semiurban      134.043860\n",
              "Urban          136.224638"
            ]
          },
          "metadata": {
            "tags": []
          },
          "execution_count": 53
        }
      ]
    },
    {
      "metadata": {
        "id": "QUMQ8ibE8p75",
        "colab_type": "code",
        "colab": {}
      },
      "cell_type": "code",
      "source": [
        "def impute_prod_loan_amount(cols):\n",
        "  area = cols[0]\n",
        "  loan_amt = cols[1]\n",
        "  \n",
        "  if np.isnan(loan_amt):\n",
        "    if area == \"Rural\":\n",
        "      return float(138.0)\n",
        "    if area == \"Semiurban\":\n",
        "      return float(134.0)\n",
        "    if area == \"Urban\":\n",
        "      return float(136.0)\n",
        "  else:\n",
        "    return loan_amt"
      ],
      "execution_count": 0,
      "outputs": []
    },
    {
      "metadata": {
        "id": "uET-dika63up",
        "colab_type": "code",
        "colab": {}
      },
      "cell_type": "code",
      "source": [
        "prod_data['LoanAmount'] = prod_data[['Property_Area','LoanAmount']].apply(impute_prod_loan_amount,axis=1)"
      ],
      "execution_count": 0,
      "outputs": []
    },
    {
      "metadata": {
        "id": "2eSg5lR76mKn",
        "colab_type": "code",
        "colab": {}
      },
      "cell_type": "code",
      "source": [
        "prod_data['Loan_Income_Perc'] = round(prod_data.LoanAmount*1000/prod_data.Total_Income,2)"
      ],
      "execution_count": 0,
      "outputs": []
    },
    {
      "metadata": {
        "id": "fHd1QNA8RmBq",
        "colab_type": "code",
        "colab": {}
      },
      "cell_type": "code",
      "source": [
        "def impute_prod_loan_term(cols):\n",
        "  Property_Area = cols[0]\n",
        "  Loan_Income_Perc = cols[1]\n",
        "  Loan_Term = cols[2]\n",
        "  \n",
        "  if Loan_Term > 0:\n",
        "    return Loan_Term\n",
        "  else:\n",
        "    if Property_Area == \"Rural\" and Loan_Income_Perc > 24:\n",
        "      return float(360)\n",
        "    if Property_Area == \"Semiurban\" and Loan_Income_Perc > 25:\n",
        "      return float(360)\n",
        "    if Property_Area == \"Urban\" and Loan_Income_Perc > 23:\n",
        "      return float(360)\n",
        "    if Property_Area == \"Rural\" and Loan_Income_Perc > 23 and Loan_Income_Perc < 24:\n",
        "      return float(345)\n",
        "    if Property_Area == \"Semiurban\" and Loan_Income_Perc > 23 and Loan_Income_Perc < 24:\n",
        "      return float(347)\n",
        "    if Property_Area == \"Urban\" and Loan_Income_Perc > 22 and Loan_Income_Perc < 23:\n",
        "      return float(328)\n",
        "    if Loan_Income_Perc > 10:\n",
        "      return float(360)\n",
        "    if Loan_Income_Perc < 10:\n",
        "      return float(180)"
      ],
      "execution_count": 0,
      "outputs": []
    },
    {
      "metadata": {
        "id": "_SYlHejok-7K",
        "colab_type": "code",
        "colab": {}
      },
      "cell_type": "code",
      "source": [
        "prod_data['Loan_Amount_Term'] = prod_data[['Property_Area','Loan_Income_Perc','Loan_Amount_Term']].apply(impute_prod_loan_term,axis=1)"
      ],
      "execution_count": 0,
      "outputs": []
    },
    {
      "metadata": {
        "id": "8vnxryXHmIDx",
        "colab_type": "code",
        "colab": {}
      },
      "cell_type": "code",
      "source": [
        "prod_data['Credit_History'] = prod_data['Credit_History'].where(prod_data.Credit_History.notnull(),other=0)"
      ],
      "execution_count": 0,
      "outputs": []
    },
    {
      "metadata": {
        "id": "B5MtUoDEmoKr",
        "colab_type": "code",
        "outputId": "308f5250-ab21-4d20-d52b-00e717581a6a",
        "colab": {
          "base_uri": "https://localhost:8080/",
          "height": 345
        }
      },
      "cell_type": "code",
      "source": [
        "prod_data.info()"
      ],
      "execution_count": 0,
      "outputs": [
        {
          "output_type": "stream",
          "text": [
            "<class 'pandas.core.frame.DataFrame'>\n",
            "RangeIndex: 367 entries, 0 to 366\n",
            "Data columns (total 14 columns):\n",
            "Loan_ID              367 non-null object\n",
            "Gender               367 non-null object\n",
            "Married              367 non-null object\n",
            "Dependents           367 non-null object\n",
            "Education            367 non-null object\n",
            "Self_Employed        367 non-null object\n",
            "ApplicantIncome      367 non-null int64\n",
            "CoapplicantIncome    367 non-null int64\n",
            "LoanAmount           367 non-null float64\n",
            "Loan_Amount_Term     367 non-null float64\n",
            "Credit_History       367 non-null float64\n",
            "Property_Area        367 non-null object\n",
            "Total_Income         367 non-null int64\n",
            "Loan_Income_Perc     367 non-null float64\n",
            "dtypes: float64(4), int64(3), object(7)\n",
            "memory usage: 40.2+ KB\n"
          ],
          "name": "stdout"
        }
      ]
    },
    {
      "metadata": {
        "id": "etJKv1G8HFMx",
        "colab_type": "text"
      },
      "cell_type": "markdown",
      "source": [
        "\n",
        "\n",
        "# > One hot Encoding on Production set\n",
        "\n"
      ]
    },
    {
      "metadata": {
        "id": "A51L9v2Nwyxb",
        "colab_type": "code",
        "colab": {}
      },
      "cell_type": "code",
      "source": [
        "Gender = pd.get_dummies(prod_data['Gender'],drop_first=True)\n",
        "Married = pd.get_dummies(prod_data['Married'],drop_first=True)\n",
        "Married.rename(index=int,columns={\"Yes\": \"Married\"},inplace=True)\n",
        "\n",
        "Dependents = pd.get_dummies(prod_data['Dependents'],drop_first=True)\n",
        "Dependents.rename(index=int,columns={\"1\": \"1_Dpnds\", \"2\": \"2_Dpnds\", \"3+\": \"3+_Dpnds\"},inplace=True)\n",
        "\n",
        "Education = pd.get_dummies(prod_data['Education'],drop_first=True)\n",
        "\n",
        "Self_Employed = pd.get_dummies(prod_data['Self_Employed'],drop_first=True)\n",
        "Self_Employed.rename(index=int,columns={\"Yes\": \"Self_Employed\"},inplace=True)\n",
        "\n",
        "Property_Area = pd.get_dummies(prod_data['Property_Area'],drop_first=True)\n",
        "\n",
        "Loan_ID = prod_data['Loan_ID']\n",
        "id_df = pd.DataFrame(Loan_ID,columns=['Loan_ID'])\n",
        "\n",
        "prod_data.drop(columns=['Gender','Married','Dependents','Education','Self_Employed','Property_Area','ApplicantIncome','CoapplicantIncome','Loan_ID'],axis=1,inplace=True)\n",
        "prod_data = pd.concat([prod_data,Gender,Married,Dependents,Education,Self_Employed,Property_Area],axis=1)\n"
      ],
      "execution_count": 0,
      "outputs": []
    },
    {
      "metadata": {
        "id": "kd7V24EOHT5U",
        "colab_type": "text"
      },
      "cell_type": "markdown",
      "source": [
        "\n",
        "\n",
        "# > Predict using Tuned Model\n",
        "\n"
      ]
    },
    {
      "metadata": {
        "id": "s0YuARKVyTBS",
        "colab_type": "code",
        "colab": {}
      },
      "cell_type": "code",
      "source": [
        "target = tune_model.predict(prod_data)"
      ],
      "execution_count": 0,
      "outputs": []
    },
    {
      "metadata": {
        "id": "aEdQo2UOHg1b",
        "colab_type": "text"
      },
      "cell_type": "markdown",
      "source": [
        "\n",
        "\n",
        "# > **Creating Final Dataset for Submission**\n",
        "\n"
      ]
    },
    {
      "metadata": {
        "id": "pH1xNMLW1qBu",
        "colab_type": "code",
        "colab": {}
      },
      "cell_type": "code",
      "source": [
        "target_df = pd.DataFrame(target,columns=['LoanStatus'])"
      ],
      "execution_count": 0,
      "outputs": []
    },
    {
      "metadata": {
        "id": "CffH1dkQ2KfT",
        "colab_type": "code",
        "colab": {}
      },
      "cell_type": "code",
      "source": [
        "result = pd.concat([id_df,target_df],axis=1)"
      ],
      "execution_count": 0,
      "outputs": []
    },
    {
      "metadata": {
        "id": "yaJDp7dP2eNY",
        "colab_type": "code",
        "colab": {}
      },
      "cell_type": "code",
      "source": [
        "def convert_01_to_yn(cols):\n",
        "  status = cols[0]\n",
        "  \n",
        "  if status == 0:\n",
        "    return 'N'\n",
        "  else:\n",
        "    return 'Y'"
      ],
      "execution_count": 0,
      "outputs": []
    },
    {
      "metadata": {
        "id": "IpbCHEHa7EXn",
        "colab_type": "code",
        "colab": {}
      },
      "cell_type": "code",
      "source": [
        "result['Loan_Status'] = result[['LoanStatus']].apply(convert_01_to_yn,axis=1)"
      ],
      "execution_count": 0,
      "outputs": []
    },
    {
      "metadata": {
        "id": "L6Y7AjLU7qYz",
        "colab_type": "code",
        "colab": {}
      },
      "cell_type": "code",
      "source": [
        "result.drop(['LoanStatus'],axis=1,inplace=True)"
      ],
      "execution_count": 0,
      "outputs": []
    },
    {
      "metadata": {
        "id": "joJ9jT9V8DBW",
        "colab_type": "code",
        "colab": {}
      },
      "cell_type": "code",
      "source": [
        "#result.rename(index=str,columns={\"LoanStatus\":\"Loan_Status\"},inplace=True)"
      ],
      "execution_count": 0,
      "outputs": []
    },
    {
      "metadata": {
        "id": "YZV2Oog0HrMC",
        "colab_type": "text"
      },
      "cell_type": "markdown",
      "source": [
        "\n",
        "\n",
        "# **> Save & Download Result**\n",
        "\n"
      ]
    },
    {
      "metadata": {
        "id": "JMzKAOTv80XJ",
        "colab_type": "code",
        "colab": {}
      },
      "cell_type": "code",
      "source": [
        "result.to_csv('loan_prediction_result.csv',index=False)"
      ],
      "execution_count": 0,
      "outputs": []
    },
    {
      "metadata": {
        "id": "6Ophb1yP-OTt",
        "colab_type": "code",
        "colab": {}
      },
      "cell_type": "code",
      "source": [
        "from google.colab import files"
      ],
      "execution_count": 0,
      "outputs": []
    },
    {
      "metadata": {
        "id": "G2uwtV71-WO4",
        "colab_type": "code",
        "colab": {}
      },
      "cell_type": "code",
      "source": [
        "files.download('loan_prediction_result.csv')"
      ],
      "execution_count": 0,
      "outputs": []
    }
  ]
}